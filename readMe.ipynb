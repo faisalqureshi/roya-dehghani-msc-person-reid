{
  "nbformat": 4,
  "nbformat_minor": 0,
  "metadata": {
    "colab": {
      "provenance": []
    },
    "kernelspec": {
      "name": "python3",
      "display_name": "Python 3"
    },
    "language_info": {
      "name": "python"
    }
  },
  "cells": [
    {
      "cell_type": "markdown",
      "source": [
        "# Unsupervised Person ReID\n",
        "\n",
        "Inspired by other worKs in unsupervised pseudo labels, we designed a two-satge system for person ReID task across different cameras. The task of matching and recognising persons across multiple camera views or datasets without the use of labelled training data is referred to as unsupervised person re-identification (ReID). Unsupervised person ReID, in contrast to supervised person ReID, which uses annotated data with identification labels for training, tries to develop effective representations exclusively from unannotated data.\n",
        "\n",
        "## Table of Contents\n",
        "\n",
        "- [Introduction](#introduction)\n",
        "- [Installation](#installation)\n",
        "- [Usage](#usage)\n",
        "- [Contact](#Contact)\n",
        "- [Acknowledgement](#Acknowledgement)\n",
        "\n",
        "\n",
        "## Introduction\n",
        "Unsupervised person ReID addresses the challenge of matching individuals across different camera viewpoints by learning robust and invariant feature representations.\n",
        "\n",
        "## Installation\n",
        "- Install Anaconda and create an environment\n",
        "- Activate your environment\n",
        "- Install packages written in requirenment.txt\n",
        "\n",
        "## Usage\n",
        "1. Prepare dataset<br>\n",
        "   &nbsp;&nbsp;&nbsp;&nbsp;&nbsp;&nbsp;&nbsp;Download Market1501and  DukeMTMC-ReID from website and put the zip file under the directory like\n",
        "\n",
        " - `./data`\n",
        "    - `dukemtmc`\n",
        "        - `raw`\n",
        "            - `DukeMTMC-reID.zip`\n",
        "    - `market1501`\n",
        "        - `raw`\n",
        "            - `Market-1501-v15.09.15.zip`\n",
        "\n",
        "\n",
        "2. Train Model<br>\n",
        "&nbsp;&nbsp;&nbsp;&nbsp;&nbsp;&nbsp;&nbsp;You need to  run the train_market.sh in scripts folder\n",
        "3. Download trained model<br>\n",
        "&nbsp;&nbsp;&nbsp;&nbsp;&nbsp;&nbsp;&nbsp; You can download pretrained weight of Market1501 from [Pretrained_checkpoint_Market1501](https://drive.google.com/file/d/1uTxz8_ozIM7qbL3p3As1upmqJ1jctWXA/view?usp=drive_link)\n",
        "4. Evaluate Model<br>\n",
        "&nbsp;&nbsp;&nbsp;&nbsp;&nbsp;&nbsp;&nbsp;change the checkpoint path in the test_market.sh in scripts folder and set the trained model.\n",
        "\n",
        "## Contact\n",
        "If you have any questions about this code or paper, feel free to contact me at [royadehghani1@gmail.com](royadehghani1@gmail.com)\n",
        "\n",
        "## Acknowledgement\n",
        "Codes are built upon [Open-reid](https://github.com/Cysu/open-reid)\n"
      ],
      "metadata": {
        "id": "JV8-qNb64ljJ"
      }
    },
    {
      "cell_type": "markdown",
      "source": [],
      "metadata": {
        "id": "mCSe2qkE5B38"
      }
    }
  ]
}